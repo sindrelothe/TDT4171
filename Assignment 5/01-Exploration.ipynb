{
 "cells": [
  {
   "cell_type": "code",
   "execution_count": 10,
   "metadata": {},
   "outputs": [],
   "source": [
    "import numpy as np\n",
    "import matplotlib.pyplot as plt\n",
    "import pickle\n",
    "from tensorflow import keras\n",
    "from typing import List\n",
    "from sklearn.feature_extraction.text import HashingVectorizer\n",
    "\n",
    "newparams = {'figure.figsize': (12, 6), 'axes.grid': False,\n",
    "             'lines.linewidth': 2,\n",
    "             'font.size': 15, 'mathtext.fontset': 'stix',\n",
    "             'font.family': 'STIXGeneral'}\n",
    "\n",
    "plt.rcParams.update(newparams)"
   ]
  },
  {
   "cell_type": "code",
   "execution_count": 9,
   "metadata": {},
   "outputs": [],
   "source": [
    "with open(file=\"data/scikit-learn-data.pickle\", mode=\"rb\") as file:\n",
    "    data = pickle.load(file)\n",
    "\n",
    "x_test: List[str] = data[\"x_test\"]\n",
    "y_test: List[int] = data[\"y_test\"]\n",
    "x_train: List[str] = data[\"x_train\"]\n",
    "y_train: List[int] = data[\"y_train\"]"
   ]
  }
 ],
 "metadata": {
  "interpreter": {
   "hash": "5270093769164f98c8d7602e5037839154ec67423181cd49856d0cca737d6d6a"
  },
  "kernelspec": {
   "display_name": "Python 3.8.10 ('tdt4171-iwsOxS76-py3.8')",
   "language": "python",
   "name": "python3"
  },
  "language_info": {
   "codemirror_mode": {
    "name": "ipython",
    "version": 3
   },
   "file_extension": ".py",
   "mimetype": "text/x-python",
   "name": "python",
   "nbconvert_exporter": "python",
   "pygments_lexer": "ipython3",
   "version": "3.8.10"
  },
  "orig_nbformat": 4
 },
 "nbformat": 4,
 "nbformat_minor": 2
}
