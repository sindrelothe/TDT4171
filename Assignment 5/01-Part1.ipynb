{
 "cells": [
  {
   "cell_type": "code",
   "execution_count": 52,
   "metadata": {},
   "outputs": [],
   "source": [
    "import numpy as np\n",
    "import matplotlib.pyplot as plt\n",
    "import pickle\n",
    "from tensorflow import keras\n",
    "from typing import List\n",
    "\n",
    "from sklearn.feature_extraction.text import HashingVectorizer\n",
    "from sklearn.naive_bayes import BernoulliNB\n",
    "from sklearn.metrics import accuracy_score\n",
    "from sklearn.tree import DecisionTreeClassifier\n",
    "\n",
    "newparams = {'figure.figsize': (12, 6), 'axes.grid': False,\n",
    "             'lines.linewidth': 2,\n",
    "             'font.size': 15, 'mathtext.fontset': 'stix',\n",
    "             'font.family': 'STIXGeneral'}\n",
    "\n",
    "plt.rcParams.update(newparams)"
   ]
  },
  {
   "cell_type": "code",
   "execution_count": 53,
   "metadata": {},
   "outputs": [],
   "source": [
    "with open(file=\"data/scikit-learn-data.pickle\", mode=\"rb\") as file:\n",
    "    data = pickle.load(file)\n",
    "\n",
    "x_test: List[str] = data[\"x_test\"]\n",
    "y_test: List[int] = data[\"y_test\"]\n",
    "x_train: List[str] = data[\"x_train\"]\n",
    "y_train: List[int] = data[\"y_train\"]"
   ]
  },
  {
   "cell_type": "code",
   "execution_count": 45,
   "metadata": {},
   "outputs": [],
   "source": [
    "vectorizer: HashingVectorizer = HashingVectorizer()\n",
    "\n",
    "X_test = vectorizer.transform(x_test)\n",
    "X_train = vectorizer.transform(x_train)"
   ]
  },
  {
   "cell_type": "code",
   "execution_count": 54,
   "metadata": {},
   "outputs": [],
   "source": [
    "classifierBNB = BernoulliNB()\n",
    "classifierDT = DecisionTreeClassifier()"
   ]
  },
  {
   "cell_type": "code",
   "execution_count": 55,
   "metadata": {},
   "outputs": [
    {
     "data": {
      "text/plain": [
       "DecisionTreeClassifier()"
      ]
     },
     "execution_count": 55,
     "metadata": {},
     "output_type": "execute_result"
    }
   ],
   "source": [
    "classifierBNB.fit(X=X_train, y=y_train)\n",
    "classifierDT.fit(X=X_train, y=y_train)"
   ]
  },
  {
   "cell_type": "code",
   "execution_count": 56,
   "metadata": {},
   "outputs": [],
   "source": [
    "resBNB = classifierBNB.predict(X_test)\n",
    "resDT = classifierDT.predict(X_test)"
   ]
  },
  {
   "cell_type": "code",
   "execution_count": 57,
   "metadata": {},
   "outputs": [],
   "source": [
    "scoreBNB = accuracy_score(y_test, resBNB)\n",
    "scoreDT = accuracy_score(y_test, resDT)"
   ]
  },
  {
   "cell_type": "code",
   "execution_count": 58,
   "metadata": {},
   "outputs": [
    {
     "name": "stdout",
     "output_type": "stream",
     "text": [
      "0.7987021941652366\n",
      "0.8597542289776906\n"
     ]
    }
   ],
   "source": [
    "print(scoreBNB)\n",
    "print(scoreDT)"
   ]
  }
 ],
 "metadata": {
  "interpreter": {
   "hash": "5270093769164f98c8d7602e5037839154ec67423181cd49856d0cca737d6d6a"
  },
  "kernelspec": {
   "display_name": "Python 3.8.10 ('tdt4171-iwsOxS76-py3.8')",
   "language": "python",
   "name": "python3"
  },
  "language_info": {
   "codemirror_mode": {
    "name": "ipython",
    "version": 3
   },
   "file_extension": ".py",
   "mimetype": "text/x-python",
   "name": "python",
   "nbconvert_exporter": "python",
   "pygments_lexer": "ipython3",
   "version": "3.8.10"
  },
  "orig_nbformat": 4
 },
 "nbformat": 4,
 "nbformat_minor": 2
}
