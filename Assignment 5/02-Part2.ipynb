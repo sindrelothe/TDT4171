{
 "cells": [
  {
   "cell_type": "code",
   "execution_count": 1,
   "metadata": {},
   "outputs": [
    {
     "name": "stderr",
     "output_type": "stream",
     "text": [
      "2022-03-30 15:07:13.754052: W tensorflow/stream_executor/platform/default/dso_loader.cc:64] Could not load dynamic library 'libcudart.so.11.0'; dlerror: libcudart.so.11.0: cannot open shared object file: No such file or directory\n",
      "2022-03-30 15:07:13.754092: I tensorflow/stream_executor/cuda/cudart_stub.cc:29] Ignore above cudart dlerror if you do not have a GPU set up on your machine.\n"
     ]
    }
   ],
   "source": [
    "import numpy as np\n",
    "import matplotlib.pyplot as plt\n",
    "import pickle\n",
    "from tensorflow import keras\n",
    "from typing import List\n",
    "\n",
    "\n",
    "newparams = {'figure.figsize': (12, 6), 'axes.grid': False,\n",
    "             'lines.linewidth': 2,\n",
    "             'font.size': 15, 'mathtext.fontset': 'stix',\n",
    "             'font.family': 'STIXGeneral'}\n",
    "\n",
    "plt.rcParams.update(newparams)"
   ]
  },
  {
   "cell_type": "code",
   "execution_count": 2,
   "metadata": {},
   "outputs": [],
   "source": [
    "with open(file=\"data/keras-data.pickle\", mode=\"rb\") as file:\n",
    "    data = pickle.load(file)\n",
    "\n",
    "x_train: List[List[int]] = data[\"x_train\"]\n",
    "y_train: List[int] = data[\"y_train\"]\n",
    "x_test: List[List[int]] = data[\"x_test\"]\n",
    "y_test: List[int] = data[\"y_test\"]\n",
    "max_length: int = data[\"max_length\"]\n",
    "vocab_size: int = data[\"vocab_size\"]\n"
   ]
  },
  {
   "cell_type": "code",
   "execution_count": 3,
   "metadata": {},
   "outputs": [],
   "source": [
    "X_test = keras.preprocessing.sequence.pad_sequences(x_test, maxlen=max_length)\n",
    "X_train = keras.preprocessing.sequence.pad_sequences(x_train, maxlen=max_length)"
   ]
  },
  {
   "cell_type": "code",
   "execution_count": 6,
   "metadata": {},
   "outputs": [],
   "source": [
    "model = keras.Sequential()\n",
    "model.add(keras.layers.Embedding(vocab_size, output_dim=int(max_length*2), input_length=X_train.shape[1]))\n",
    "model.add(keras.layers.Dropout(0.2))\n",
    "model.add(keras.layers.LSTM(units=16))\n",
    "model.add(keras.layers.Dropout(0.2))\n",
    "model.add(keras.layers.Dense(units=8, activation=\"softmax\"))\n",
    "model.compile(metrics=[\"accuracy\"], optimizer=keras.optimizers.Adam(learning_rate=1e-1, decay=1e-2),\n",
    "              loss=\"sparse_categorical_crossentropy\")"
   ]
  },
  {
   "cell_type": "code",
   "execution_count": 7,
   "metadata": {},
   "outputs": [
    {
     "name": "stderr",
     "output_type": "stream",
     "text": [
      "2022-03-30 13:40:15.261288: W tensorflow/core/framework/cpu_allocator_impl.cc:82] Allocation of 1669689144 exceeds 10% of free system memory.\n",
      "2022-03-30 13:40:20.064164: W tensorflow/core/framework/cpu_allocator_impl.cc:82] Allocation of 288728064 exceeds 10% of free system memory.\n",
      "2022-03-30 13:40:20.322717: W tensorflow/core/framework/cpu_allocator_impl.cc:82] Allocation of 288728064 exceeds 10% of free system memory.\n",
      "2022-03-30 13:40:20.322818: W tensorflow/core/framework/cpu_allocator_impl.cc:82] Allocation of 288728064 exceeds 10% of free system memory.\n",
      "2022-03-30 13:40:20.902379: W tensorflow/core/framework/cpu_allocator_impl.cc:82] Allocation of 288728064 exceeds 10% of free system memory.\n"
     ]
    }
   ],
   "source": [
    "model.fit(X_train, np.array(y_train), epochs=1)\n",
    "model.save(\"model.h5\")"
   ]
  },
  {
   "cell_type": "code",
   "execution_count": 5,
   "metadata": {},
   "outputs": [
    {
     "name": "stderr",
     "output_type": "stream",
     "text": [
      "2022-03-30 15:06:48.508037: W tensorflow/stream_executor/platform/default/dso_loader.cc:64] Could not load dynamic library 'libcuda.so.1'; dlerror: libcuda.so.1: cannot open shared object file: No such file or directory\n",
      "2022-03-30 15:06:48.508277: W tensorflow/stream_executor/cuda/cuda_driver.cc:269] failed call to cuInit: UNKNOWN ERROR (303)\n",
      "2022-03-30 15:06:48.508313: I tensorflow/stream_executor/cuda/cuda_diagnostics.cc:156] kernel driver does not appear to be running on this host (LAPTOP-6S51GAGA): /proc/driver/nvidia/version does not exist\n",
      "2022-03-30 15:06:48.509349: I tensorflow/core/platform/cpu_feature_guard.cc:151] This TensorFlow binary is optimized with oneAPI Deep Neural Network Library (oneDNN) to use the following CPU instructions in performance-critical operations:  AVX2 FMA\n",
      "To enable them in other operations, rebuild TensorFlow with the appropriate compiler flags.\n"
     ]
    }
   ],
   "source": [
    "model = keras.models.load_model(\"model.h5\")"
   ]
  },
  {
   "cell_type": "code",
   "execution_count": 6,
   "metadata": {},
   "outputs": [
    {
     "name": "stderr",
     "output_type": "stream",
     "text": [
      "2022-03-30 15:06:52.619307: W tensorflow/core/framework/cpu_allocator_impl.cc:82] Allocation of 554482944 exceeds 10% of free system memory.\n",
      "2022-03-30 15:06:53.250515: W tensorflow/core/framework/cpu_allocator_impl.cc:82] Allocation of 288728064 exceeds 10% of free system memory.\n",
      "2022-03-30 15:06:53.396253: W tensorflow/core/framework/cpu_allocator_impl.cc:82] Allocation of 288728064 exceeds 10% of free system memory.\n"
     ]
    },
    {
     "name": "stdout",
     "output_type": "stream",
     "text": [
      "   1/4079 [..............................] - ETA: 1:29:13 - loss: 2.0820 - accuracy: 0.2500"
     ]
    },
    {
     "name": "stderr",
     "output_type": "stream",
     "text": [
      "2022-03-30 15:06:54.165629: W tensorflow/core/framework/cpu_allocator_impl.cc:82] Allocation of 288728064 exceeds 10% of free system memory.\n",
      "2022-03-30 15:06:54.239720: W tensorflow/core/framework/cpu_allocator_impl.cc:82] Allocation of 288728064 exceeds 10% of free system memory.\n"
     ]
    },
    {
     "name": "stdout",
     "output_type": "stream",
     "text": [
      "  12/4079 [..............................] - ETA: 27:48 - loss: 2.0818 - accuracy: 0.1198"
     ]
    }
   ],
   "source": [
    "model.evaluate(X_test, np.array(y_test))"
   ]
  }
 ],
 "metadata": {
  "interpreter": {
   "hash": "5270093769164f98c8d7602e5037839154ec67423181cd49856d0cca737d6d6a"
  },
  "kernelspec": {
   "display_name": "Python 3.8.10 ('tdt4171-iwsOxS76-py3.8')",
   "language": "python",
   "name": "python3"
  },
  "language_info": {
   "codemirror_mode": {
    "name": "ipython",
    "version": 3
   },
   "file_extension": ".py",
   "mimetype": "text/x-python",
   "name": "python",
   "nbconvert_exporter": "python",
   "pygments_lexer": "ipython3",
   "version": "3.8.10"
  },
  "orig_nbformat": 4
 },
 "nbformat": 4,
 "nbformat_minor": 2
}
