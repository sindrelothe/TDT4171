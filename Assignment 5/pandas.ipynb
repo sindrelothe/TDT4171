{
 "cells": [
  {
   "cell_type": "code",
   "execution_count": 2,
   "metadata": {},
   "outputs": [],
   "source": [
    "import numpy as np\n",
    "import matplotlib.pyplot as plt\n",
    "import pandas as pd\n",
    "\n",
    "newparams = {'figure.figsize': (12, 6), 'axes.grid': False,\n",
    "             'lines.linewidth': 2,\n",
    "             'font.size': 15, 'mathtext.fontset': 'stix',\n",
    "             'font.family': 'STIXGeneral'}\n",
    "\n",
    "plt.rcParams.update(newparams)"
   ]
  },
  {
   "cell_type": "code",
   "execution_count": 9,
   "metadata": {},
   "outputs": [],
   "source": [
    "dicti = {\"col1\": [1, 2, 3], \"col2\": [3, 4, 5], \"col3\": [\"a\", \"b\", \"c\"]}\n",
    "\n",
    "df = pd.DataFrame(dicti)"
   ]
  }
 ],
 "metadata": {
  "interpreter": {
   "hash": "5270093769164f98c8d7602e5037839154ec67423181cd49856d0cca737d6d6a"
  },
  "kernelspec": {
   "display_name": "Python 3.8.10 ('tdt4171-iwsOxS76-py3.8')",
   "language": "python",
   "name": "python3"
  },
  "language_info": {
   "codemirror_mode": {
    "name": "ipython",
    "version": 3
   },
   "file_extension": ".py",
   "mimetype": "text/x-python",
   "name": "python",
   "nbconvert_exporter": "python",
   "pygments_lexer": "ipython3",
   "version": "3.8.10"
  },
  "orig_nbformat": 4
 },
 "nbformat": 4,
 "nbformat_minor": 2
}
